{
 "cells": [
  {
   "cell_type": "code",
   "execution_count": 2,
   "metadata": {},
   "outputs": [],
   "source": [
    "import numpy as np\n",
    "import scipy as sp\n",
    "from scipy.stats import unitary_group, ortho_group\n"
   ]
  },
  {
   "cell_type": "code",
   "execution_count": 2,
   "metadata": {},
   "outputs": [],
   "source": [
    "dim = 5\n",
    "dim_A = 3\n",
    "dim_B = dim-dim_A\n",
    "\n",
    "U = unitary_group.rvs(dim)\n",
    "U_AA = U[:dim_A,:dim_A]\n",
    "U_AB = U[:dim_A,dim_A:]\n",
    "U_BA = U[dim_A:,:dim_A]\n",
    "U_BB = U[dim_A:,dim_A:]"
   ]
  },
  {
   "cell_type": "code",
   "execution_count": 4,
   "metadata": {},
   "outputs": [],
   "source": [
    "S_A, c_A, T_Ah = sp.linalg.svd(U_AA)\n",
    "S_B, c_B, T_Bh = sp.linalg.svd(U_BB)"
   ]
  },
  {
   "cell_type": "code",
   "execution_count": 5,
   "metadata": {},
   "outputs": [
    {
     "name": "stdout",
     "output_type": "stream",
     "text": [
      "[1.         0.83913313 0.19568059]\n",
      "[0.83913313 0.19568059]\n"
     ]
    }
   ],
   "source": [
    "print(c_A)\n",
    "print(c_B)"
   ]
  },
  {
   "cell_type": "code",
   "execution_count": 6,
   "metadata": {},
   "outputs": [
    {
     "name": "stdout",
     "output_type": "stream",
     "text": [
      "[[ 0.     +0.j      -0.     -0.j     ]\n",
      " [-0.35576-0.41145j  0.     +0.j     ]\n",
      " [ 0.     +0.j       0.57367+0.79537j]]\n"
     ]
    }
   ],
   "source": [
    "m = S_A.conj().T @ U_AB @ T_Bh.conj().T\n",
    "print(np.round(m,5))"
   ]
  },
  {
   "cell_type": "code",
   "execution_count": 7,
   "metadata": {},
   "outputs": [],
   "source": [
    "Phi_A = 1/np.sqrt(2)*np.block(\n",
    "    [[U_AA, U_AB],\n",
    "    [np.identity(dim_A),np.zeros((dim_A,dim_B))]]\n",
    ")\n",
    "U, s, Vh = sp.linalg.svd(Phi_A)"
   ]
  },
  {
   "cell_type": "code",
   "execution_count": 8,
   "metadata": {},
   "outputs": [
    {
     "name": "stdout",
     "output_type": "stream",
     "text": [
      "[1.         0.95894033 0.77320133 0.63416063 0.28360789]\n"
     ]
    }
   ],
   "source": [
    "print(s)"
   ]
  },
  {
   "cell_type": "code",
   "execution_count": 11,
   "metadata": {},
   "outputs": [
    {
     "name": "stdout",
     "output_type": "stream",
     "text": [
      "[1.         0.92307757 0.72051748]\n"
     ]
    }
   ],
   "source": [
    "print(np.sqrt((c_A**2+1)/2))"
   ]
  },
  {
   "cell_type": "code",
   "execution_count": null,
   "metadata": {},
   "outputs": [],
   "source": []
  },
  {
   "cell_type": "code",
   "execution_count": 4,
   "metadata": {},
   "outputs": [],
   "source": [
    "dim = 5\n",
    "dim_A = 3\n",
    "dim_B = dim-dim_A\n",
    "\n",
    "O = ortho_group.rvs(dim)\n",
    "O_AA = O[:dim_A,:dim_A]\n",
    "O_AB = O[:dim_A,dim_A:]\n",
    "O_BA = O[dim_A:,:dim_A]\n",
    "O_BB = O[dim_A:,dim_A:]\n",
    "\n",
    "S_A, c_A, T_Ah = sp.linalg.svd(O_AA)\n",
    "S_B, c_B, T_Bh = sp.linalg.svd(O_BB)"
   ]
  },
  {
   "cell_type": "code",
   "execution_count": 5,
   "metadata": {},
   "outputs": [
    {
     "name": "stdout",
     "output_type": "stream",
     "text": [
      "[1.         0.3163506  0.26458569]\n",
      "[0.3163506  0.26458569]\n"
     ]
    }
   ],
   "source": [
    "print(c_A)\n",
    "print(c_B)"
   ]
  },
  {
   "cell_type": "code",
   "execution_count": 9,
   "metadata": {},
   "outputs": [
    {
     "data": {
      "text/plain": [
       "array([[1, 3],\n",
       "       [4, 6],\n",
       "       [7, 9]])"
      ]
     },
     "execution_count": 9,
     "metadata": {},
     "output_type": "execute_result"
    }
   ],
   "source": [
    "\n",
    "index = np.array([True, False, True])\n",
    "\n",
    "a = np.array([[1,2,3],\n",
    "              [4,5,6],\n",
    "              [7,8,9]])\n",
    "a[:,index]\n"
   ]
  },
  {
   "cell_type": "code",
   "execution_count": 3,
   "metadata": {},
   "outputs": [
    {
     "data": {
      "text/plain": [
       "(array([[1., 0.],\n",
       "        [0., 1.]]),\n",
       " array([1., 0.]),\n",
       " array([[1., 0.],\n",
       "        [0., 1.]]))"
      ]
     },
     "execution_count": 3,
     "metadata": {},
     "output_type": "execute_result"
    }
   ],
   "source": [
    "m = np.array(\n",
    "    [[1,0],\n",
    "    [0,0]])\n",
    "sp.linalg.svd(m)\n"
   ]
  },
  {
   "cell_type": "code",
   "execution_count": null,
   "metadata": {},
   "outputs": [],
   "source": []
  }
 ],
 "metadata": {
  "kernelspec": {
   "display_name": "snd",
   "language": "python",
   "name": "python3"
  },
  "language_info": {
   "codemirror_mode": {
    "name": "ipython",
    "version": 3
   },
   "file_extension": ".py",
   "mimetype": "text/x-python",
   "name": "python",
   "nbconvert_exporter": "python",
   "pygments_lexer": "ipython3",
   "version": "3.8.13"
  }
 },
 "nbformat": 4,
 "nbformat_minor": 2
}
