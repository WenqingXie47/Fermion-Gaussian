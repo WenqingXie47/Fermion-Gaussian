{
 "cells": [
  {
   "cell_type": "code",
   "execution_count": 2,
   "metadata": {},
   "outputs": [],
   "source": [
    "import numpy as np\n",
    "from ncon import ncon"
   ]
  },
  {
   "cell_type": "code",
   "execution_count": 3,
   "metadata": {},
   "outputs": [],
   "source": [
    "d = 2\n",
    "D = 4\n",
    "# order of leg (l, r, u, d)\n",
    "M = np.random.rand(D,D,d,d) + 1j*np.random.rand(D,D,d,d)"
   ]
  },
  {
   "cell_type": "code",
   "execution_count": 4,
   "metadata": {},
   "outputs": [
    {
     "name": "stdout",
     "output_type": "stream",
     "text": [
      "error: 9.155133597044475e-16\n"
     ]
    }
   ],
   "source": [
    "con_einsum = np.einsum('ilud, ljpq -> ijupdq', M, M)\n",
    "con_ncon = ncon([M, M], [[-1,1,-3,-5], [1,-2,-4,-6]])\n",
    "\n",
    "print(\"error:\", np.abs(con_ncon - con_einsum).max())"
   ]
  },
  {
   "cell_type": "code",
   "execution_count": null,
   "metadata": {},
   "outputs": [],
   "source": []
  }
 ],
 "metadata": {
  "kernelspec": {
   "display_name": "picos_py311",
   "language": "python",
   "name": "python3"
  },
  "language_info": {
   "codemirror_mode": {
    "name": "ipython",
    "version": 3
   },
   "file_extension": ".py",
   "mimetype": "text/x-python",
   "name": "python",
   "nbconvert_exporter": "python",
   "pygments_lexer": "ipython3",
   "version": "3.11.7"
  }
 },
 "nbformat": 4,
 "nbformat_minor": 2
}
