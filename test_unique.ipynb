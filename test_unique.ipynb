{
 "cells": [
  {
   "cell_type": "code",
   "execution_count": 1,
   "metadata": {},
   "outputs": [],
   "source": [
    "import numpy as np\n",
    "import scipy as sp\n",
    "from scipy.stats import unitary_group, ortho_group\n",
    "from svd_unitary import decompose_isometry, reconstruct_unitary\n",
    "from numpy.linalg import matrix_rank"
   ]
  },
  {
   "cell_type": "code",
   "execution_count": 6,
   "metadata": {},
   "outputs": [],
   "source": [
    "dim = 6\n",
    "\n",
    "\n",
    "U = unitary_group.rvs(dim)"
   ]
  },
  {
   "cell_type": "code",
   "execution_count": 7,
   "metadata": {},
   "outputs": [
    {
     "name": "stdout",
     "output_type": "stream",
     "text": [
      "[0.77218124 0.26099965]\n",
      "[0.77218124 0.26099965]\n"
     ]
    }
   ],
   "source": [
    "M_A_local, M_B_local, U_A_mix, Vh_A_mix, U_B_mix, Vh_B_mix, Cos = decompose_isometry(U, dim_A=2)"
   ]
  },
  {
   "cell_type": "code",
   "execution_count": 8,
   "metadata": {},
   "outputs": [
    {
     "data": {
      "text/plain": [
       "array([[ 0.03753493-0.47037653j,  0.07692471-0.51454891j],\n",
       "       [-0.19112278-0.09915901j, -0.67561709-0.21756833j],\n",
       "       [-0.50013919-0.24990706j,  0.2197532 +0.18919418j],\n",
       "       [ 0.38169822-0.52219761j, -0.15730575+0.34160879j]])"
      ]
     },
     "execution_count": 8,
     "metadata": {},
     "output_type": "execute_result"
    }
   ],
   "source": [
    "U_B_mix"
   ]
  },
  {
   "cell_type": "code",
   "execution_count": 9,
   "metadata": {},
   "outputs": [
    {
     "name": "stdout",
     "output_type": "stream",
     "text": [
      "[0.82116617 0.49436584]\n",
      "[0.82116617 0.49436584]\n"
     ]
    }
   ],
   "source": [
    "M_C_local, M_D_local, U_C_mix, Vh_C_mix, U_D_mix, Vh_D_mix, Cos = decompose_isometry(U, dim_A=4)"
   ]
  },
  {
   "cell_type": "code",
   "execution_count": 10,
   "metadata": {},
   "outputs": [
    {
     "data": {
      "text/plain": [
       "array([[-0.63599784+0.31399303j, -0.33131763-0.12273586j],\n",
       "       [-0.10323309-0.35427078j, -0.14758171+0.87937762j],\n",
       "       [-0.03115862+0.46078295j,  0.15327753+0.18471597j],\n",
       "       [ 0.23030727+0.30727357j, -0.00945799+0.1495852j ]])"
      ]
     },
     "execution_count": 10,
     "metadata": {},
     "output_type": "execute_result"
    }
   ],
   "source": [
    "U_C_mix"
   ]
  },
  {
   "cell_type": "code",
   "execution_count": null,
   "metadata": {},
   "outputs": [],
   "source": []
  }
 ],
 "metadata": {
  "kernelspec": {
   "display_name": "snd",
   "language": "python",
   "name": "python3"
  },
  "language_info": {
   "codemirror_mode": {
    "name": "ipython",
    "version": 3
   },
   "file_extension": ".py",
   "mimetype": "text/x-python",
   "name": "python",
   "nbconvert_exporter": "python",
   "pygments_lexer": "ipython3",
   "version": "3.8.13"
  }
 },
 "nbformat": 4,
 "nbformat_minor": 2
}
